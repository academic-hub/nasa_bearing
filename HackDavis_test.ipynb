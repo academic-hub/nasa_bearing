{
 "cells": [
  {
   "cell_type": "markdown",
   "metadata": {},
   "source": [
    "# HackDavis python library tests\n",
    "\n",
    "## OCS-HackDavis Package Installation "
   ]
  },
  {
   "cell_type": "code",
   "execution_count": null,
   "metadata": {},
   "outputs": [],
   "source": [
    "!pip install -i https://test.pypi.org/simple/ --extra-index-url https://pypi.org/simple/ ocs-hackdavis==0.18.0"
   ]
  },
  {
   "cell_type": "markdown",
   "metadata": {},
   "source": [
    "## Import functions"
   ]
  },
  {
   "cell_type": "code",
   "execution_count": null,
   "metadata": {},
   "outputs": [],
   "source": [
    "from ocs_hackdavis import (\n",
    "    ucdavis_buildings,\n",
    "    ucdavis_ceeds_of,\n",
    "    ucdavis_dataview_id,\n",
    "    ucdavis_config_data,\n",
    ")"
   ]
  },
  {
   "cell_type": "markdown",
   "metadata": {},
   "source": [
    "## List of buildings"
   ]
  },
  {
   "cell_type": "code",
   "execution_count": null,
   "metadata": {},
   "outputs": [],
   "source": [
    "buildings = ucdavis_buildings()\n",
    "len(buildings), buildings[:25]"
   ]
  },
  {
   "cell_type": "markdown",
   "metadata": {},
   "source": [
    "## Function `ucdavis_ceeds_of` returns list of CEEDs for a given building\n",
    "\n",
    "### Display them for all buildings"
   ]
  },
  {
   "cell_type": "code",
   "execution_count": null,
   "metadata": {},
   "outputs": [],
   "source": [
    "for num, building in enumerate(ucdavis_buildings(), 1):\n",
    "    print(f\"[{num}] Building: {building} ==> CEEDS: {ucdavis_ceeds_of(building)}\")"
   ]
  },
  {
   "cell_type": "markdown",
   "metadata": {},
   "source": [
    "## Test error code \n",
    "\n",
    "### Bad argument of the right type"
   ]
  },
  {
   "cell_type": "code",
   "execution_count": null,
   "metadata": {},
   "outputs": [],
   "source": [
    "# should fail\n",
    "ucdavis_ceeds_of(\"Bad Building\")"
   ]
  },
  {
   "cell_type": "markdown",
   "metadata": {},
   "source": [
    "## Bad argument type"
   ]
  },
  {
   "cell_type": "code",
   "execution_count": null,
   "metadata": {},
   "outputs": [],
   "source": [
    "# should fail - type error\n",
    "ucdavis_ceeds_of(42)"
   ]
  },
  {
   "cell_type": "markdown",
   "metadata": {},
   "source": [
    "## Get Data View ID of a given building+CEED pair"
   ]
  },
  {
   "cell_type": "code",
   "execution_count": null,
   "metadata": {},
   "outputs": [],
   "source": [
    "dv_id = ucdavis_dataview_id(\"Activities and Recreation Center\", \"Electricity\")\n",
    "dv_id"
   ]
  },
  {
   "cell_type": "markdown",
   "metadata": {},
   "source": [
    "## Import for OCS Sample Library and other necessary modules"
   ]
  },
  {
   "cell_type": "code",
   "execution_count": null,
   "metadata": {},
   "outputs": [],
   "source": [
    "from ocs_sample_library_preview import OCSClient\n",
    "import configparser\n",
    "import io\n",
    "import json\n",
    "import pandas as pd"
   ]
  },
  {
   "cell_type": "markdown",
   "metadata": {},
   "source": [
    "## Standard configuration file parsing and OCS client object \n",
    "\n",
    "#### Reference: https://github.com/osisoft/OSI-Samples-OCS/blob/master/basic_samples/DataViews/Python3/program.py#L150"
   ]
  },
  {
   "cell_type": "code",
   "execution_count": null,
   "metadata": {},
   "outputs": [],
   "source": [
    "config = configparser.ConfigParser()\n",
    "config.read(\"config.ini\")\n",
    "\n",
    "ocs_client = OCSClient(\n",
    "    config.get(\"Access\", \"ApiVersion\"),\n",
    "    config.get(\"Access\", \"Tenant\"),\n",
    "    config.get(\"Access\", \"Resource\"),\n",
    "    config.get(\"Credentials\", \"ClientId\"),\n",
    "    config.get(\"Credentials\", \"ClientSecret\"),\n",
    ")\n",
    "\n",
    "namespace_id = config.get(\"Configurations\", \"Namespace\")\n",
    "print(f\"namespace_id: '{namespace_id}'\")"
   ]
  },
  {
   "cell_type": "markdown",
   "metadata": {},
   "source": [
    "## Getting CSV data from Data View"
   ]
  },
  {
   "cell_type": "code",
   "execution_count": null,
   "metadata": {},
   "outputs": [],
   "source": [
    "# Step 1) get data view id\n",
    "dv_id = ucdavis_dataview_id(\"Activities and Recreation Center\", \"Electricity\")\n",
    "\n",
    "# Step 2) call data view\n",
    "csv, token = ocs_client.DataViews.getDataInterpolated(\n",
    "    namespace_id,\n",
    "    dv_id,\n",
    "    startIndex=\"2018-03-17\",\n",
    "    endIndex=\"2018-04-17\",\n",
    "    interval=\"00:20:00\",\n",
    "    count=250000,\n",
    "    form=\"csvh\",\n",
    ")\n",
    "# make sure there is no additional data\n",
    "assert token is None\n",
    "\n",
    "# display result subset\n",
    "print(csv[:2048])"
   ]
  },
  {
   "cell_type": "markdown",
   "metadata": {},
   "source": [
    "## Getting a Pandas dataframe from CSV"
   ]
  },
  {
   "cell_type": "code",
   "execution_count": null,
   "metadata": {},
   "outputs": [],
   "source": [
    "# Step 3) transform CSV into a Pandas dataframe, convert Timestamp column to the right data type\n",
    "df = pd.read_csv(io.StringIO(csv), parse_dates=['Timestamp'])\n",
    "df"
   ]
  },
  {
   "cell_type": "code",
   "execution_count": null,
   "metadata": {},
   "outputs": [],
   "source": [
    "# Same as above but keep only a subset of the columns\n",
    "df_select = pd.read_csv(\n",
    "    io.StringIO(csv),\n",
    "    parse_dates=[\"Timestamp\"],\n",
    "    usecols=[\n",
    "        \"Timestamp\",\n",
    "        \"AnnualUsage\",\n",
    "        \"Cumulative Use\",\n",
    "        \"Demand_kBtu\",\n",
    "        \"Electricity_EUI\",\n",
    "        \"MonthlyUsage\",\n",
    "    ],\n",
    ")\n",
    "df_select"
   ]
  },
  {
   "cell_type": "markdown",
   "metadata": {},
   "source": [
    "## Access AF configuration data for a building+CEED pair\n",
    "\n",
    "### Example"
   ]
  },
  {
   "cell_type": "code",
   "execution_count": null,
   "metadata": {},
   "outputs": [],
   "source": [
    "ucdavis_config_data(ocs_client, namespace_id, \"Activities and Recreation Center\", \"Electricity\")"
   ]
  },
  {
   "cell_type": "markdown",
   "metadata": {},
   "source": [
    "#### Note: each CEED of a building has a copy of the AF configuration data of the parent element (e.g. BuildingName, Latitude, Longitude, etc)"
   ]
  },
  {
   "cell_type": "code",
   "execution_count": null,
   "metadata": {},
   "outputs": [],
   "source": [
    "ucdavis_config_data(ocs_client, namespace_id, \"Activities and Recreation Center\", \"Steam\")"
   ]
  },
  {
   "cell_type": "markdown",
   "metadata": {},
   "source": [
    "## Display AF configuration data of 10 first building+CEEDs"
   ]
  },
  {
   "cell_type": "code",
   "execution_count": null,
   "metadata": {},
   "outputs": [],
   "source": [
    "count = 1\n",
    "for building in ucdavis_buildings():\n",
    "    for ceed in ucdavis_ceeds_of(building):\n",
    "        print(\n",
    "            f\"[{count}] {building} | {ceed}\\n  {ucdavis_config_data(ocs_client, namespace_id, building, ceed)}\"\n",
    "        )\n",
    "        count += 1\n",
    "        print(\"------------------------\")\n",
    "    if count >= 10:\n",
    "        break"
   ]
  },
  {
   "cell_type": "code",
   "execution_count": null,
   "metadata": {},
   "outputs": [],
   "source": []
  }
 ],
 "metadata": {
  "kernelspec": {
   "display_name": "Python 3",
   "language": "python",
   "name": "python3"
  },
  "language_info": {
   "codemirror_mode": {
    "name": "ipython",
    "version": 3
   },
   "file_extension": ".py",
   "mimetype": "text/x-python",
   "name": "python",
   "nbconvert_exporter": "python",
   "pygments_lexer": "ipython3",
   "version": "3.7.3"
  }
 },
 "nbformat": 4,
 "nbformat_minor": 4
}
