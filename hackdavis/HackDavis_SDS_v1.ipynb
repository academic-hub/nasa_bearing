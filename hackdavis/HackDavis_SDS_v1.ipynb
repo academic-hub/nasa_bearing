{
 "cells": [
  {
   "cell_type": "code",
   "execution_count": null,
   "metadata": {},
   "outputs": [],
   "source": [
    "config_text = u\"\"\"\n",
    "; IMPORTANT: replace these values with those provided by OSIsoft\n",
    "[Configurations]\n",
    "Namespace = UC__Davis\n",
    "\n",
    "[Access]\n",
    "Resource = https://dat-b.osisoft.com\n",
    "Tenant = 65292b6c-ec16-414a-b583-ce7ae04046d4\n",
    "ApiVersion = v1-preview\n",
    "\n",
    "[Credentials] \n",
    "ClientId = 5f77dc80-ad37-4055-bd54-cccf987d9bb5\n",
    "ClientSecret = *********REPLACE_ME**********\n",
    "\"\"\""
   ]
  },
  {
   "cell_type": "markdown",
   "metadata": {},
   "source": [
    "# HackDavis python library tests\n",
    "\n",
    "## OCS-HackDavis Package Installation "
   ]
  },
  {
   "cell_type": "code",
   "execution_count": null,
   "metadata": {},
   "outputs": [],
   "source": [
    "!pip install -i https://test.pypi.org/simple/ --extra-index-url https://pypi.org/simple/ ocs-hackdavis==0.34.0"
   ]
  },
  {
   "cell_type": "markdown",
   "metadata": {},
   "source": [
    "## Import functions from package `ocs_hackdavis`\n",
    "\n",
    "### They are all described in this notebook with examples"
   ]
  },
  {
   "cell_type": "code",
   "execution_count": null,
   "metadata": {},
   "outputs": [],
   "source": [
    "from ocs_hackdavis import (\n",
    "    ucdavis_buildings,  # list of campus buildings\n",
    "    ucdavis_ceeds_of,   # list of CEED element of a building (Electricity, Steam, Chilled Water, etc)\n",
    "    ucdavis_streams_of, # The list of all OCS data streams for a building and CEED pair  \n",
    "    ucdavis_building_metadata,  # Metadata for a building: building code, lat/long, usage, etc.  \n",
    "    ocs_stream_interpolated_data,  # Interpolated data from a stream given a time range + interpolation interval\n",
    "    ucdavis_outside_temperature,  # Outside temperature at UC Davis for a given a time range + interpolation interval\n",
    ")"
   ]
  },
  {
   "cell_type": "markdown",
   "metadata": {},
   "source": [
    "## List of buildings"
   ]
  },
  {
   "cell_type": "code",
   "execution_count": null,
   "metadata": {},
   "outputs": [],
   "source": [
    "buildings = ucdavis_buildings()\n",
    "len(buildings), buildings[:25]  # display first 25"
   ]
  },
  {
   "cell_type": "markdown",
   "metadata": {},
   "source": [
    "## Function `ucdavis_ceeds_of` returns list of CEEDs for a given building\n",
    "\n",
    "### Display them for all buildings"
   ]
  },
  {
   "cell_type": "code",
   "execution_count": null,
   "metadata": {},
   "outputs": [],
   "source": [
    "for num, building in enumerate(ucdavis_buildings(), 1):\n",
    "    print(f\"[{num}] Building: {building} ==> CEEDS: {ucdavis_ceeds_of(building)}\")"
   ]
  },
  {
   "cell_type": "markdown",
   "metadata": {},
   "source": [
    "## Get the list of available streams of a building\n",
    "\n",
    "#### Default CEED is Electricity"
   ]
  },
  {
   "cell_type": "code",
   "execution_count": null,
   "metadata": {},
   "outputs": [],
   "source": [
    "ucdavis_streams_of(\"Activities and Recreation Center\")"
   ]
  },
  {
   "cell_type": "markdown",
   "metadata": {},
   "source": [
    "## Get the specific stream of a building"
   ]
  },
  {
   "cell_type": "code",
   "execution_count": null,
   "metadata": {},
   "outputs": [],
   "source": [
    "ucdavis_streams_of(\"Activities and Recreation Center\")[\"Demand\"]"
   ]
  },
  {
   "cell_type": "markdown",
   "metadata": {},
   "source": [
    "## Import for OCS Sample Library and other necessary modules"
   ]
  },
  {
   "cell_type": "code",
   "execution_count": null,
   "metadata": {},
   "outputs": [],
   "source": [
    "from ocs_sample_library_preview import OCSClient\n",
    "import configparser\n",
    "import io\n",
    "import json\n",
    "import pandas as pd"
   ]
  },
  {
   "cell_type": "markdown",
   "metadata": {},
   "source": [
    "## Standard configuration file parsing and OCS client object \n",
    "\n",
    "#### Reference: https://github.com/osisoft/OSI-Samples-OCS/blob/master/basic_samples/DataViews/Python3/program.py#L150\n",
    "\n",
    "## IMPORTANT: REPLACE CLIENT ID + SECRET BELOW BEFORE RUNNING"
   ]
  },
  {
   "cell_type": "code",
   "execution_count": null,
   "metadata": {},
   "outputs": [],
   "source": [
    "config = configparser.ConfigParser(allow_no_value=True)\n",
    "config.read_file(io.StringIO(config_text))\n",
    "\n",
    "ocs_client = OCSClient(\n",
    "    config.get(\"Access\", \"ApiVersion\"),\n",
    "    config.get(\"Access\", \"Tenant\"),\n",
    "    config.get(\"Access\", \"Resource\"),\n",
    "    config.get(\"Credentials\", \"ClientId\"),\n",
    "    config.get(\"Credentials\", \"ClientSecret\"),\n",
    ")\n",
    "\n",
    "namespace_id = config.get(\"Configurations\", \"Namespace\")\n",
    "print(f\"namespace_id: '{namespace_id}'\")"
   ]
  },
  {
   "cell_type": "markdown",
   "metadata": {},
   "source": [
    "## Getting interpolated data from a stream"
   ]
  },
  {
   "cell_type": "code",
   "execution_count": null,
   "metadata": {},
   "outputs": [],
   "source": [
    "# Step 1: get the stream Id \n",
    "stream_id = ucdavis_streams_of(\"Activities and Recreation Center\")[\"Demand\"]\n",
    "\n",
    "# Step 2) request interpolated data\n",
    "# NOTE 1: difference between endIndex and startIndex should be 31 days or less\n",
    "# NOTE 2: interpolation interval cannot be less than 2 minutes\n",
    "result = ocs_stream_interpolated_data(\n",
    "    ocs_client,\n",
    "    namespace_id,\n",
    "    stream_id,\n",
    "    start=\"2017-02-01\", # UTC \n",
    "    end=\"2017-03-01\",\n",
    "    interval=2,  # 2 minutes\n",
    ")\n",
    "len(result), result[:100]  # display first 100 rows "
   ]
  },
  {
   "cell_type": "markdown",
   "metadata": {},
   "source": [
    "## Transform result into a Pandas series"
   ]
  },
  {
   "cell_type": "code",
   "execution_count": null,
   "metadata": {},
   "outputs": [],
   "source": [
    "demand1 = pd.read_json(json.dumps(result)).set_index('Timestamp')\n",
    "demand1"
   ]
  },
  {
   "cell_type": "markdown",
   "metadata": {},
   "source": [
    "## Get data for next month"
   ]
  },
  {
   "cell_type": "code",
   "execution_count": null,
   "metadata": {},
   "outputs": [],
   "source": [
    "result = ocs_stream_interpolated_data(\n",
    "    ocs_client,\n",
    "    namespace_id,\n",
    "    stream_id,\n",
    "    start=\"2017-03-01\", # UTC \n",
    "    end=\"2017-04-01\",\n",
    "    interval=2,  # 2 minutes\n",
    ")"
   ]
  },
  {
   "cell_type": "markdown",
   "metadata": {},
   "source": [
    "## Transform into a Pandas time series and append to first month data"
   ]
  },
  {
   "cell_type": "code",
   "execution_count": null,
   "metadata": {},
   "outputs": [],
   "source": [
    "demand2 = pd.read_json(json.dumps(result)).set_index('Timestamp')\n",
    "demand_2m = demand1.append(demand2)\n",
    "len(demand_2m), demand_2m"
   ]
  },
  {
   "cell_type": "markdown",
   "metadata": {},
   "source": [
    "## There is a repeated row at the boundary of the two appended series\n",
    "\n",
    "More specifically, the bottom row of first series and first row of second series. Line below shows it:"
   ]
  },
  {
   "cell_type": "code",
   "execution_count": null,
   "metadata": {},
   "outputs": [],
   "source": [
    "demand_2m.loc[demand_2m.index.duplicated()]"
   ]
  },
  {
   "cell_type": "markdown",
   "metadata": {},
   "source": [
    "## Remove duplicated row\n",
    "\n",
    "Difference in lenght (== # of rows) should be 1 "
   ]
  },
  {
   "cell_type": "code",
   "execution_count": null,
   "metadata": {},
   "outputs": [],
   "source": [
    "new_demand = demand_2m.loc[~demand_2m.index.duplicated(keep=\"first\")]\n",
    "len(demand_2m) - len(new_demand)"
   ]
  },
  {
   "cell_type": "markdown",
   "metadata": {},
   "source": [
    "## Getting a full year of data\n",
    "\n",
    "### Reusing what we've learn so far "
   ]
  },
  {
   "cell_type": "code",
   "execution_count": null,
   "metadata": {},
   "outputs": [],
   "source": [
    "# Create an empty series\n",
    "demand = pd.Series()\n",
    "demand"
   ]
  },
  {
   "cell_type": "code",
   "execution_count": null,
   "metadata": {},
   "outputs": [],
   "source": [
    "for start_month in range(1, 12):\n",
    "    start_date = f\"2017-{start_month}-01\"\n",
    "    print(f\"> processing {start_date}\")\n",
    "    result = ocs_stream_interpolated_data(\n",
    "        ocs_client,\n",
    "        namespace_id,\n",
    "        stream_id,\n",
    "        start=start_date,  # UTC\n",
    "        end=f\"2017-{start_month+1}-01\",\n",
    "        interval=2,  # 2 minutes\n",
    "    )\n",
    "    demand = demand.append(\n",
    "        pd.read_json(json.dumps(result)).set_index(\"Timestamp\", drop=True)\n",
    "    )\n",
    "\n",
    "# Note there is an additional column \"0\" with NaN (not a number), it will be remove in the next cell\n",
    "len(demand), demand"
   ]
  },
  {
   "cell_type": "code",
   "execution_count": null,
   "metadata": {},
   "outputs": [],
   "source": [
    "# remove duplicate rows and keep only column named \"Values\"\n",
    "demand = demand.loc[~demand.index.duplicated(keep=\"first\")][\"Value\"]\n",
    "len(demand), demand"
   ]
  },
  {
   "cell_type": "markdown",
   "metadata": {},
   "source": [
    "## Building metadata"
   ]
  },
  {
   "cell_type": "code",
   "execution_count": null,
   "metadata": {},
   "outputs": [],
   "source": [
    "ucdavis_building_metadata(ocs_client, namespace_id, \"Activities and Recreation Center\")"
   ]
  },
  {
   "cell_type": "markdown",
   "metadata": {},
   "source": [
    "## Get outside temperature at UC Davis\n",
    "\n",
    "### Data for this stream starts on 2017-04-01, 19:38"
   ]
  },
  {
   "cell_type": "code",
   "execution_count": null,
   "metadata": {},
   "outputs": [],
   "source": [
    "# display only first 100 rows\n",
    "ucdavis_outside_temperature(ocs_client, namespace_id, \"2017-04-01\", \"2017-05-01\", 2)[:100]"
   ]
  },
  {
   "cell_type": "markdown",
   "metadata": {},
   "source": [
    "## Test error code \n",
    "\n",
    "### Bad argument of the right type"
   ]
  },
  {
   "cell_type": "code",
   "execution_count": null,
   "metadata": {},
   "outputs": [],
   "source": [
    "# should fail\n",
    "ucdavis_ceeds_of(\"Bad Building\")"
   ]
  }
 ],
 "metadata": {
  "kernelspec": {
   "display_name": "Python 3",
   "language": "python",
   "name": "python3"
  },
  "language_info": {
   "codemirror_mode": {
    "name": "ipython",
    "version": 3
   },
   "file_extension": ".py",
   "mimetype": "text/x-python",
   "name": "python",
   "nbconvert_exporter": "python",
   "pygments_lexer": "ipython3",
   "version": "3.7.3"
  }
 },
 "nbformat": 4,
 "nbformat_minor": 4
}
