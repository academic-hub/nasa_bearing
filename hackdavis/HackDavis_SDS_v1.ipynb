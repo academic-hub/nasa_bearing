{
 "cells": [
  {
   "cell_type": "markdown",
   "metadata": {},
   "source": [
    "# HackDavis python library tests\n",
    "\n",
    "## OCS-HackDavis Package Installation "
   ]
  },
  {
   "cell_type": "code",
   "execution_count": 1,
   "metadata": {},
   "outputs": [
    {
     "name": "stdout",
     "output_type": "stream",
     "text": [
      "Looking in indexes: https://test.pypi.org/simple/, https://pypi.org/simple/\n",
      "Requirement already satisfied: ocs-hackdavis==0.28.0 in /opt/conda/lib/python3.7/site-packages (0.28.0)\n",
      "Requirement already satisfied: backoff in /opt/conda/lib/python3.7/site-packages (from ocs-hackdavis==0.28.0) (1.10.0)\n",
      "Requirement already satisfied: python-dateutil>=2.8.0 in /opt/conda/lib/python3.7/site-packages (from ocs-hackdavis==0.28.0) (2.8.1)\n",
      "Requirement already satisfied: ocs-sample-library-preview==0.0.36rc0 in /opt/conda/lib/python3.7/site-packages (from ocs-hackdavis==0.28.0) (0.0.36rc0)\n",
      "Requirement already satisfied: pyyaml in /opt/conda/lib/python3.7/site-packages (from ocs-hackdavis==0.28.0) (5.2)\n",
      "Requirement already satisfied: typeguard>=2.4.1 in /opt/conda/lib/python3.7/site-packages (from ocs-hackdavis==0.28.0) (2.6.1)\n",
      "Requirement already satisfied: six>=1.5 in /opt/conda/lib/python3.7/site-packages (from python-dateutil>=2.8.0->ocs-hackdavis==0.28.0) (1.13.0)\n",
      "Requirement already satisfied: requests==2.22.0 in /opt/conda/lib/python3.7/site-packages (from ocs-sample-library-preview==0.0.36rc0->ocs-hackdavis==0.28.0) (2.22.0)\n",
      "Requirement already satisfied: idna<2.9,>=2.5 in /opt/conda/lib/python3.7/site-packages (from requests==2.22.0->ocs-sample-library-preview==0.0.36rc0->ocs-hackdavis==0.28.0) (2.8)\n",
      "Requirement already satisfied: certifi>=2017.4.17 in /opt/conda/lib/python3.7/site-packages (from requests==2.22.0->ocs-sample-library-preview==0.0.36rc0->ocs-hackdavis==0.28.0) (2019.11.28)\n",
      "Requirement already satisfied: chardet<3.1.0,>=3.0.2 in /opt/conda/lib/python3.7/site-packages (from requests==2.22.0->ocs-sample-library-preview==0.0.36rc0->ocs-hackdavis==0.28.0) (3.0.4)\n",
      "Requirement already satisfied: urllib3!=1.25.0,!=1.25.1,<1.26,>=1.21.1 in /opt/conda/lib/python3.7/site-packages (from requests==2.22.0->ocs-sample-library-preview==0.0.36rc0->ocs-hackdavis==0.28.0) (1.25.6)\n"
     ]
    }
   ],
   "source": [
    "!pip install -i https://test.pypi.org/simple/ --extra-index-url https://pypi.org/simple/ ocs-hackdavis==0.28.0"
   ]
  },
  {
   "cell_type": "markdown",
   "metadata": {},
   "source": [
    "## Import functions from package `ocs_hackdavis`\n",
    "\n",
    "### They are all described in this notebook with examples"
   ]
  },
  {
   "cell_type": "code",
   "execution_count": 2,
   "metadata": {},
   "outputs": [],
   "source": [
    "from ocs_hackdavis import (\n",
    "    ucdavis_buildings,  # list of campus buildings\n",
    "    ucdavis_ceeds_of,   # list of CEED element of a building (Electricity, Steam, Chilled Water, etc)\n",
    "    ucdavis_streams_of, # The list of all OCS data streams for a building and CEED pair  \n",
    "    ucdavis_building_metadata,  # Metadata for a building: building code, lat/long, usage, etc.  \n",
    "    ocs_stream_interpolated_data,  # Interpolated data from a stream given a time range + interpolation interval\n",
    "    ucdavis_outside_temperature,  # Outside temperature at UC Davis for a given a time range + interpolation interval\n",
    ")"
   ]
  },
  {
   "cell_type": "markdown",
   "metadata": {},
   "source": [
    "## List of buildings"
   ]
  },
  {
   "cell_type": "code",
   "execution_count": 3,
   "metadata": {},
   "outputs": [
    {
     "data": {
      "text/plain": [
       "(159,\n",
       " ['ARC Pavilion',\n",
       "  'Academic Surge Building',\n",
       "  'Activities and Recreation Center',\n",
       "  'Advanced Materials Research Laboratory',\n",
       "  'Advanced Transportation Infrastructure Research Center',\n",
       "  'Aggie Stadium',\n",
       "  'Agronomy Field Laboratory',\n",
       "  'Animal Building',\n",
       "  'Animal Resource Service J1',\n",
       "  'Animal Resource Service M3',\n",
       "  'Animal Resource Service N1',\n",
       "  'Ann E. Pitzer Center',\n",
       "  'Antique Mechanics Trailer',\n",
       "  'Aquatic Biology & Environmental Science Bldg',\n",
       "  'Art Building',\n",
       "  'Art Building Annex',\n",
       "  'Art, Music, Wright Halls',\n",
       "  'Asmundson Annex',\n",
       "  'Asmundson Hall',\n",
       "  'Bainer Hall',\n",
       "  'Bowley Head House',\n",
       "  'Briggs Hall',\n",
       "  'California Hall',\n",
       "  'Campus Data Center',\n",
       "  'Cellular Biology Laboratory'])"
      ]
     },
     "execution_count": 3,
     "metadata": {},
     "output_type": "execute_result"
    }
   ],
   "source": [
    "buildings = ucdavis_buildings()\n",
    "len(buildings), buildings[:25]  # display first 25"
   ]
  },
  {
   "cell_type": "markdown",
   "metadata": {},
   "source": [
    "## Function `ucdavis_ceeds_of` returns list of CEEDs for a given building\n",
    "\n",
    "### Display them for all buildings"
   ]
  },
  {
   "cell_type": "code",
   "execution_count": 4,
   "metadata": {},
   "outputs": [
    {
     "name": "stdout",
     "output_type": "stream",
     "text": [
      "[1] Building: ARC Pavilion ==> CEEDS: ['Baseline Electricity', 'ChilledWater', 'Electricity', 'Steam']\n",
      "[2] Building: Academic Surge Building ==> CEEDS: ['ChilledWater', 'Electricity', 'Steam']\n",
      "[3] Building: Activities and Recreation Center ==> CEEDS: ['Baseline ChilledWater', 'Baseline Electricity', 'Baseline Steam', 'ChilledWater', 'Electricity', 'Steam']\n",
      "[4] Building: Advanced Materials Research Laboratory ==> CEEDS: ['Baseline Electricity', 'Electricity']\n",
      "[5] Building: Advanced Transportation Infrastructure Research Center ==> CEEDS: ['Baseline Electricity', 'Electricity']\n",
      "[6] Building: Aggie Stadium ==> CEEDS: ['Electricity']\n",
      "[7] Building: Agronomy Field Laboratory ==> CEEDS: ['Electricity']\n",
      "[8] Building: Animal Building ==> CEEDS: ['Electricity']\n",
      "[9] Building: Animal Resource Service J1 ==> CEEDS: ['Electricity', 'Natural Gas']\n",
      "[10] Building: Animal Resource Service M3 ==> CEEDS: ['Electricity']\n",
      "[11] Building: Animal Resource Service N1 ==> CEEDS: ['Electricity']\n",
      "[12] Building: Ann E. Pitzer Center ==> CEEDS: ['Baseline Electricity', 'ChilledWater', 'Electricity', 'Steam']\n",
      "[13] Building: Antique Mechanics Trailer ==> CEEDS: ['Electricity']\n",
      "[14] Building: Aquatic Biology & Environmental Science Bldg ==> CEEDS: ['Electricity']\n",
      "[15] Building: Art Building ==> CEEDS: ['Electricity']\n",
      "[16] Building: Art Building Annex ==> CEEDS: ['Electricity']\n",
      "[17] Building: Art, Music, Wright Halls ==> CEEDS: ['ChilledWater', 'Electricity', 'Steam']\n",
      "[18] Building: Asmundson Annex ==> CEEDS: ['Baseline Electricity', 'Electricity']\n",
      "[19] Building: Asmundson Hall ==> CEEDS: ['Baseline Electricity', 'ChilledWater', 'Electricity', 'Steam']\n",
      "[20] Building: Bainer Hall ==> CEEDS: ['Baseline Electricity', 'ChilledWater', 'Electricity', 'Steam']\n",
      "[21] Building: Bowley Head House ==> CEEDS: ['Electricity']\n",
      "[22] Building: Briggs Hall ==> CEEDS: ['Baseline Electricity', 'ChilledWater', 'Electricity', 'Steam']\n",
      "[23] Building: California Hall ==> CEEDS: ['ChilledWater', 'Electricity', 'Steam']\n",
      "[24] Building: Campus Data Center ==> CEEDS: ['Baseline ChilledWater', 'Baseline Electricity', 'ChilledWater', 'Electricity']\n",
      "[25] Building: Cellular Biology Laboratory ==> CEEDS: ['Baseline Electricity', 'Electricity']\n",
      "[26] Building: Center for Companion Animal Health ==> CEEDS: ['Baseline Electricity', 'ChilledWater', 'Electricity', 'Steam']\n",
      "[27] Building: Center for Comparative Medicine ==> CEEDS: ['Baseline Electricity', 'Baseline Steam', 'ChilledWater', 'Electricity', 'Steam']\n",
      "[28] Building: Center for Health & Environment Clinical Medicine ==> CEEDS: ['Electricity']\n",
      "[29] Building: Center for Health & Environment Office & Laboratory ==> CEEDS: ['Electricity']\n",
      "[30] Building: Center for Health & Environment Toxic Pollutant Laboratory ==> CEEDS: ['Baseline Electricity', 'Electricity', 'Natural Gas']\n",
      "[31] Building: Central Cage Wash Facility ==> CEEDS: ['ChilledWater', 'Electricity', 'Steam']\n",
      "[32] Building: Chemistry ==> CEEDS: ['Baseline Electricity', 'ChilledWater', 'Electricity', 'Steam']\n",
      "[33] Building: Chemistry Annex ==> CEEDS: ['Baseline ChilledWater', 'Baseline Electricity', 'Baseline Steam', 'ChilledWater', 'Electricity', 'Steam']\n",
      "[34] Building: Cole A ==> CEEDS: ['Electricity']\n",
      "[35] Building: Cole B ==> CEEDS: ['Baseline Electricity', 'ChilledWater', 'Electricity', 'Steam']\n",
      "[36] Building: Conference Center ==> CEEDS: ['Electricity']\n",
      "[37] Building: Contained Research Facility ==> CEEDS: ['Electricity']\n",
      "[38] Building: Cruess Hall ==> CEEDS: ['Baseline Electricity', 'ChilledWater', 'Electricity', 'Steam']\n",
      "[39] Building: Dairy Cattle Feed ==> CEEDS: ['Electricity']\n",
      "[40] Building: Dairy Cattle Shed ==> CEEDS: ['Electricity']\n",
      "[41] Building: Dairy Tower ==> CEEDS: ['Electricity']\n",
      "[42] Building: Earth and Physical Sciences Building ==> CEEDS: ['Baseline ChilledWater', 'Baseline Electricity', 'ChilledWater', 'Electricity', 'Steam']\n",
      "[43] Building: Environmental Services Facility Headquarters ==> CEEDS: ['Electricity']\n",
      "[44] Building: Equestrian Center Caretaker Trailer ==> CEEDS: ['Electricity']\n",
      "[45] Building: Equestrian Center Covered Arena ==> CEEDS: ['Electricity']\n",
      "[46] Building: Everson Hall ==> CEEDS: ['Electricity', 'Steam']\n",
      "[47] Building: FPS Trinchero Building ==> CEEDS: ['Baseline Gas', 'Electricity', 'NaturalGas']\n",
      "[48] Building: Facilities Electrical Annex ==> CEEDS: ['Electricity']\n",
      "[49] Building: Freeborn Hall ==> CEEDS: ['Baseline Electricity', 'ChilledWater', 'Electricity', 'Steam']\n",
      "[50] Building: Gallagher Hall ==> CEEDS: ['Baseline Electricity', 'Electricity']\n",
      "[51] Building: Genome & Biomedical Sciences Facility ==> CEEDS: ['Baseline Electricity', 'ChilledWater', 'Electricity', 'Steam']\n",
      "[52] Building: Geotechnical Modeling Facility ==> CEEDS: ['Electricity']\n",
      "[53] Building: Ghausi Hall ==> CEEDS: ['Baseline ChilledWater', 'Baseline Electricity', 'Baseline Steam', 'ChilledWater', 'Electricity', 'Steam']\n",
      "[54] Building: Giedt Hall ==> CEEDS: ['Baseline ChilledWater', 'ChilledWater', 'Electricity', 'Steam']\n",
      "[55] Building: Gourley Clinical Teaching Center ==> CEEDS: ['ChilledWater', 'Electricity', 'Steam']\n",
      "[56] Building: Growth Chamber Building T1 ==> CEEDS: ['Electricity']\n",
      "[57] Building: Growth Chamber Building T2 ==> CEEDS: ['Electricity']\n",
      "[58] Building: Haring Hall ==> CEEDS: ['Baseline Electricity', 'Electricity']\n",
      "[59] Building: Hart Hall ==> CEEDS: ['Baseline Electricity', 'ChilledWater', 'Electricity', 'Steam']\n",
      "[60] Building: Heitman Staff Learning Center ==> CEEDS: ['Electricity', 'Gas']\n",
      "[61] Building: Hickey Gym ==> CEEDS: ['Electricity', 'Steam']\n",
      "[62] Building: Hickey Pool ==> CEEDS: ['Baseline Electricity', 'Condensate', 'Electricity', 'Steam']\n",
      "[63] Building: Hoagland Hall ==> CEEDS: ['Baseline ChilledWater', 'Baseline Electricity', 'ChilledWater', 'Electricity', 'Steam']\n",
      "[64] Building: Hopkins Services Center Parking Lot ==> CEEDS: ['Electricity']\n",
      "[65] Building: Hopkins Services Complex ==> CEEDS: ['Electricity']\n",
      "[66] Building: Hopkins Services Complex Auxiliary Receiving ==> CEEDS: ['Electricity']\n",
      "[67] Building: Housing Administration ==> CEEDS: ['Baseline Electricity', 'ChilledWater', 'Electricity']\n",
      "[68] Building: Hunt Hall ==> CEEDS: ['Baseline Electricity', 'ChilledWater', 'Electricity', 'Steam']\n",
      "[69] Building: Hutchison Child Development Center ==> CEEDS: ['Electricity', 'Natural Gas']\n",
      "[70] Building: Hutchison Hall ==> CEEDS: ['Baseline ChilledWater', 'Baseline Electricity', 'Baseline Steam', 'ChilledWater', 'Electricity', 'Steam']\n",
      "[71] Building: Hutchison Recreation Field Lights ==> CEEDS: ['Electricity']\n",
      "[72] Building: IET Communications Resources ==> CEEDS: ['Electricity']\n",
      "[73] Building: International Center ==> CEEDS: ['Electricity', 'Gas']\n",
      "[74] Building: Jackson Sustainable Winery ==> CEEDS: ['Electricity']\n",
      "[75] Building: Jungerman Hall ==> CEEDS: ['Baseline Electricity', 'ChilledWater', 'Electricity', 'Steam']\n",
      "[76] Building: Kemper Hall ==> CEEDS: ['Baseline Electricity', 'ChilledWater', 'Electricity', 'Steam']\n",
      "[77] Building: Kerr Hall ==> CEEDS: ['Baseline Electricity', 'Electricity', 'Steam']\n",
      "[78] Building: King Hall ==> CEEDS: ['Baseline Electricity', 'ChilledWater', 'Electricity']\n",
      "[79] Building: Leukemia Barn ==> CEEDS: ['Baseline Electricity', 'Electricity']\n",
      "[80] Building: Leukemia Lab ==> CEEDS: ['Baseline Electricity', 'Electricity']\n",
      "[81] Building: Life Sciences ==> CEEDS: ['Baseline Electricity', 'ChilledWater', 'Electricity', 'Steam']\n",
      "[82] Building: Maddy Lab ==> CEEDS: ['Baseline Electricity', 'ChilledWater', 'Electricity']\n",
      "[83] Building: Mann Laboratory ==> CEEDS: ['Baseline Electricity', 'ChilledWater', 'Electricity', 'Steam']\n",
      "[84] Building: Mathematical Sciences Building ==> CEEDS: ['Baseline ChilledWater', 'Baseline Electricity', 'ChilledWater', 'Electricity', 'Steam']\n",
      "[85] Building: Medical Sciences I B ==> CEEDS: ['Electricity']\n",
      "[86] Building: Medical Sciences I D ==> CEEDS: ['Baseline Electricity', 'Electricity']\n",
      "[87] Building: Memorial Union ==> CEEDS: ['Baseline ChilledWater', 'Baseline Steam', 'ChilledWater', 'Electricity', 'Steam']\n",
      "[88] Building: Meyer Hall ==> CEEDS: ['Baseline ChilledWater', 'Baseline Electricity', 'Baseline Steam', 'ChilledWater', 'Electricity', 'Steam']\n",
      "[89] Building: Mrak Hall ==> CEEDS: ['Baseline ChilledWater', 'ChilledWater', 'Electricity', 'Steam']\n",
      "[90] Building: Music Building ==> CEEDS: ['Electricity']\n",
      "[91] Building: Office of Research (1850 Research Park Drive) ==> CEEDS: ['Electricity']\n",
      "[92] Building: Olson Hall ==> CEEDS: ['ChilledWater', 'Electricity', 'Steam']\n",
      "[93] Building: PES Tennis Courts ==> CEEDS: ['Electricity']\n",
      "[94] Building: Parsons Seed Certification Center ==> CEEDS: ['Electricity']\n",
      "[95] Building: Pavilion Parking Structure ==> CEEDS: ['Baseline Electricity', 'Electricity']\n",
      "[96] Building: Physical Sciences & Engineering Library ==> CEEDS: ['Electricity']\n",
      "[97] Building: Physics Building ==> CEEDS: ['Baseline Electricity', 'Baseline Steam', 'ChilledWater', 'Electricity', 'Steam']\n",
      "[98] Building: Plant & Environmental Sciences ==> CEEDS: ['Baseline ChilledWater', 'Baseline Electricity', 'Baseline Steam', 'ChilledWater', 'Electricity', 'Steam']\n",
      "[99] Building: Plant Reproductive Biology Facility ==> CEEDS: ['Electricity']\n",
      "[100] Building: Primate Childhood Health & Disease Facility ==> CEEDS: ['Baseline Electricity', 'Electricity']\n",
      "[101] Building: Primate Controlled Environment Facility (CEF) ==> CEEDS: ['Electricity']\n",
      "[102] Building: Primate Quarantine ==> CEEDS: ['Electricity']\n",
      "[103] Building: Primate Respiratory Disease Center ==> CEEDS: ['Baseline Electricity', 'Electricity', 'Natural Gas']\n",
      "[104] Building: Primate Shop Facility ==> CEEDS: ['Electricity']\n",
      "[105] Building: Primate Virology & Immunology Laboratory ==> CEEDS: ['Baseline Electricity', 'Electricity']\n",
      "[106] Building: Pritchard VMTH ==> CEEDS: ['Baseline ChilledWater', 'Baseline Electricity', 'ChilledWater', 'Electricity', 'Steam']\n",
      "[107] Building: Quad Parking Structure ==> CEEDS: ['Baseline Electricity', 'Electricity']\n",
      "[108] Building: RMI Brewery, Winery, and Food Pilot Facility ==> CEEDS: ['Baseline ChilledWater', 'Baseline Steam', 'ChilledWater', 'Electricity', 'Steam']\n",
      "[109] Building: Roessler Hall ==> CEEDS: ['ChilledWater', 'Electricity']\n",
      "[110] Building: Schaal Aquatic Center ==> CEEDS: ['Baseline Electricity', 'Electricity', 'Steam']\n",
      "[111] Building: School of Education Building ==> CEEDS: ['Baseline Electricity', 'ChilledWater', 'Electricity']\n",
      "[112] Building: Sciences Lab Building ==> CEEDS: ['Baseline Electricity', 'Baseline Steam', 'ChilledWater', 'Electricity', 'Steam']\n",
      "[113] Building: Segundo Dining Commons ==> CEEDS: ['Baseline ChilledWater', 'Baseline Electricity', 'ChilledWater', 'Electricity', 'Steam']\n",
      "[114] Building: Segundo High Rises ==> CEEDS: ['Baseline Electricity', 'Electricity']\n",
      "[115] Building: Segundo Regan ==> CEEDS: ['Baseline ChilledWater', 'Baseline Electricity', 'Baseline Steam', 'ChilledWater', 'Electricity', 'Steam']\n",
      "[116] Building: Segundo Services Center ==> CEEDS: ['Baseline ChilledWater', 'Baseline Steam', 'ChilledWater', 'Electricity', 'Steam']\n",
      "[117] Building: Shields Library ==> CEEDS: ['Baseline ChilledWater', 'ChilledWater', 'Electricity', 'Steam']\n",
      "[118] Building: Shrem Museum of Art ==> CEEDS: ['Baseline ChilledWater', 'Baseline Gas', 'ChilledWater', 'Electricity', 'Gas']\n",
      "[119] Building: Silo Bike Barn ==> CEEDS: ['Electricity']\n",
      "[120] Building: Social Sciences & Humanities ==> CEEDS: ['Baseline Electricity', 'ChilledWater', 'Electricity', 'Steam']\n",
      "[121] Building: Sprocket Building ==> CEEDS: ['ChilledWater', 'Electricity', 'Steam']\n",
      "[122] Building: Sproul Hall ==> CEEDS: ['ChilledWater', 'Electricity', 'Steam']\n",
      "[123] Building: Storer Hall ==> CEEDS: ['Baseline Electricity', 'ChilledWater', 'Electricity', 'Steam']\n",
      "[124] Building: Student Affairs Annex ==> CEEDS: ['Electricity']\n",
      "[125] Building: Student Community Center ==> CEEDS: ['Baseline ChilledWater', 'Baseline Electricity', 'ChilledWater', 'Electricity', 'Steam']\n",
      "[126] Building: Student Health & Wellness Center ==> CEEDS: ['Baseline ChilledWater', 'Baseline Electricity', 'ChilledWater', 'Electricity', 'Steam']\n",
      "[127] Building: Swine Teaching and Research Facility ==> CEEDS: ['Electricity']\n",
      "[128] Building: TAPS C&E ==> CEEDS: ['Electricity']\n",
      "[129] Building: Temporary Building 144 ==> CEEDS: ['Electricity']\n",
      "[130] Building: Temporary Building 178 ==> CEEDS: ['Electricity']\n",
      "[131] Building: Temporary Building 184 ==> CEEDS: ['Electricity']\n",
      "[132] Building: Tercero 1 ==> CEEDS: ['Baseline ChilledWater', 'Baseline Electricity', 'Baseline Steam', 'ChilledWater', 'Electricity', 'Steam']\n",
      "[133] Building: Tercero 3 ==> CEEDS: ['Baseline ChilledWater', 'Baseline Steam', 'ChilledWater', 'Electricity', 'Steam']\n",
      "[134] Building: Tercero 4 ==> CEEDS: ['ChilledWater', 'Electricity', 'Steam']\n",
      "[135] Building: Tercero Dining Commons ==> CEEDS: ['Baseline ChilledWater', 'Baseline Electricity', 'ChilledWater', 'Electricity', 'Heating']\n",
      "[136] Building: The Barn ==> CEEDS: ['Electricity']\n",
      "[137] Building: The Grove ==> CEEDS: ['ChilledWater', 'Electricity', 'Steam']\n",
      "[138] Building: Thurman Laboratory ==> CEEDS: ['Baseline Electricity', 'ChilledWater', 'Electricity', 'Steam']\n",
      "[139] Building: Translational Shared Research Facility ==> CEEDS: ['Electricity']\n",
      "[140] Building: Transportation and Parking Services ==> CEEDS: ['Baseline ChilledWater', 'Baseline Electricity', 'Baseline Gas', 'ChilledWater', 'Electricity', 'Natural Gas']\n",
      "[141] Building: Tupper Hall ==> CEEDS: ['Baseline Electricity', 'Baseline Steam', 'ChilledWater', 'Electricity', 'Steam']\n",
      "[142] Building: University Extension Building ==> CEEDS: ['Electricity']\n",
      "[143] Building: VMTH Surgical ==> CEEDS: ['Electricity']\n",
      "[144] Building: VMTH Ward ==> CEEDS: ['Baseline Electricity', 'Electricity']\n",
      "[145] Building: Valley Hall ==> CEEDS: ['Baseline ChilledWater', 'Baseline Electricity', 'Baseline Steam', 'ChilledWater', 'Electricity', 'Steam']\n",
      "[146] Building: Vet Med Equine Athletic Performance Lab ==> CEEDS: ['Baseline ChilledWater', 'Baseline Electricity', 'ChilledWater', 'Electricity', 'Steam']\n",
      "[147] Building: Vet Med Lab Animal A Beach Lab ==> CEEDS: ['Electricity']\n",
      "[148] Building: Vet Med Large Animal Facility ==> CEEDS: ['Electricity']\n",
      "[149] Building: Vet Med Student Services and Administration Center ==> CEEDS: ['ChilledWater', 'Electricity', 'Steam']\n",
      "[150] Building: Veterinary Medicine 2 ==> CEEDS: ['Baseline Electricity', 'Electricity', 'Steam']\n",
      "[151] Building: Voorhies Hall ==> CEEDS: ['Baseline Electricity', 'Electricity']\n",
      "[152] Building: Walker Hall ==> CEEDS: ['Electricity']\n",
      "[153] Building: Water Science & Engineering Hydraulic L2 ==> CEEDS: ['Electricity']\n",
      "[154] Building: Watershed Science Facility ==> CEEDS: ['Baseline Electricity', 'ChilledWater', 'Electricity', 'Steam']\n",
      "[155] Building: Wellman Hall ==> CEEDS: ['Baseline Electricity', 'ChilledWater', 'Electricity', 'Steam']\n",
      "[156] Building: Western Human Nutrition Research Center (WHNRC) ==> CEEDS: ['Baseline ChilledWater', 'Baseline Electricity', 'Baseline Steam', 'ChilledWater', 'Electricity', 'Steam']\n",
      "[157] Building: Wickson Hall ==> CEEDS: ['Baseline ChilledWater', 'Baseline Electricity', 'Baseline Steam', 'ChilledWater', 'Electricity', 'Steam']\n",
      "[158] Building: Wright Hall ==> CEEDS: ['Baseline Electricity', 'Electricity']\n",
      "[159] Building: Young Hall ==> CEEDS: ['Baseline Electricity', 'Baseline Steam', 'ChilledWater', 'Electricity', 'Steam']\n"
     ]
    }
   ],
   "source": [
    "for num, building in enumerate(ucdavis_buildings(), 1):\n",
    "    print(f\"[{num}] Building: {building} ==> CEEDS: {ucdavis_ceeds_of(building)}\")"
   ]
  },
  {
   "cell_type": "markdown",
   "metadata": {},
   "source": [
    "## Get the list of available streams of a building\n",
    "\n",
    "#### Default CEED is Electricity"
   ]
  },
  {
   "cell_type": "code",
   "execution_count": 5,
   "metadata": {},
   "outputs": [
    {
     "data": {
      "text/plain": [
       "{'AnnualCost': 'PI_uni-pida-vm0_403',\n",
       " 'AnnualUsage': 'PI_uni-pida-vm0_418',\n",
       " 'Cumulative Use': 'PI_uni-pida-vm0_415',\n",
       " 'Demand': 'PI_uni-pida-vm0_532_ds2m',\n",
       " 'Demand_kBtu': 'PI_uni-pida-vm0_419',\n",
       " 'EUI': 'PI_uni-pida-vm0_182',\n",
       " 'Electricity_EUI': 'PI_uni-pida-vm0_238',\n",
       " 'MonthlyUsage': 'PI_uni-pida-vm0_417',\n",
       " 'Rollover Check': 'PI_uni-pida-vm0_239',\n",
       " 'Rollover Count Month': 'PI_uni-pida-vm0_241',\n",
       " 'Rollover Count Year': 'PI_uni-pida-vm0_242'}"
      ]
     },
     "execution_count": 5,
     "metadata": {},
     "output_type": "execute_result"
    }
   ],
   "source": [
    "ucdavis_streams_of(\"Activities and Recreation Center\")"
   ]
  },
  {
   "cell_type": "markdown",
   "metadata": {},
   "source": [
    "## Get the specific stream of a building"
   ]
  },
  {
   "cell_type": "code",
   "execution_count": 6,
   "metadata": {},
   "outputs": [
    {
     "data": {
      "text/plain": [
       "'PI_uni-pida-vm0_532_ds2m'"
      ]
     },
     "execution_count": 6,
     "metadata": {},
     "output_type": "execute_result"
    }
   ],
   "source": [
    "ucdavis_streams_of(\"Activities and Recreation Center\")[\"Demand\"]"
   ]
  },
  {
   "cell_type": "markdown",
   "metadata": {},
   "source": [
    "## Import for OCS Sample Library and other necessary modules"
   ]
  },
  {
   "cell_type": "code",
   "execution_count": 7,
   "metadata": {},
   "outputs": [],
   "source": [
    "from ocs_sample_library_preview import OCSClient\n",
    "import configparser\n",
    "import io\n",
    "import json\n",
    "import pandas as pd"
   ]
  },
  {
   "cell_type": "markdown",
   "metadata": {},
   "source": [
    "## Standard configuration file parsing and OCS client object \n",
    "\n",
    "#### Reference: https://github.com/osisoft/OSI-Samples-OCS/blob/master/basic_samples/DataViews/Python3/program.py#L150\n",
    "\n",
    "## IMPORTANT: REPLACE CLIENT ID + SECRET BELOW BEFORE RUNNING"
   ]
  },
  {
   "cell_type": "code",
   "execution_count": 8,
   "metadata": {},
   "outputs": [],
   "source": [
    "config_text = u\"\"\"\n",
    "; IMPORTANT: replace these values with those provided by OSIsoft\n",
    "[Configurations]\n",
    "Namespace = UC__Davis\n",
    "\n",
    "[Access]\n",
    "Resource = https://dat-b.osisoft.com\n",
    "Tenant = 65292b6c-ec16-414a-b583-ce7ae04046d4\n",
    "ApiVersion = v1-preview\n",
    "\n",
    "[Credentials]\n",
    "ClientId = REPLACE_ME\n",
    "ClientSecret = REPLACE_ME\n",
    "\"\"\""
   ]
  },
  {
   "cell_type": "code",
   "execution_count": 9,
   "metadata": {},
   "outputs": [
    {
     "name": "stdout",
     "output_type": "stream",
     "text": [
      "namespace_id: 'UC__Davis'\n"
     ]
    }
   ],
   "source": [
    "config = configparser.ConfigParser(allow_no_value=True)\n",
    "config.read_file(io.StringIO(config_text))\n",
    "\n",
    "ocs_client = OCSClient(\n",
    "    config.get(\"Access\", \"ApiVersion\"),\n",
    "    config.get(\"Access\", \"Tenant\"),\n",
    "    config.get(\"Access\", \"Resource\"),\n",
    "    config.get(\"Credentials\", \"ClientId\"),\n",
    "    config.get(\"Credentials\", \"ClientSecret\"),\n",
    ")\n",
    "\n",
    "namespace_id = config.get(\"Configurations\", \"Namespace\")\n",
    "print(f\"namespace_id: '{namespace_id}'\")"
   ]
  },
  {
   "cell_type": "markdown",
   "metadata": {},
   "source": [
    "## Getting interpolated data from a stream"
   ]
  },
  {
   "cell_type": "code",
   "execution_count": 10,
   "metadata": {},
   "outputs": [
    {
     "data": {
      "text/plain": [
       "(20161,\n",
       " [{'Timestamp': '2017-02-01T00:00:00Z', 'Value': 254.05560302734375},\n",
       "  {'Timestamp': '2017-02-01T00:02:00Z', 'Value': 262.8854675292969},\n",
       "  {'Timestamp': '2017-02-01T00:04:00Z', 'Value': 249.9988250732422},\n",
       "  {'Timestamp': '2017-02-01T00:06:00Z', 'Value': 252.9053192138672},\n",
       "  {'Timestamp': '2017-02-01T00:08:00Z', 'Value': 252.3594512939453},\n",
       "  {'Timestamp': '2017-02-01T00:10:00Z', 'Value': 248.40652465820312},\n",
       "  {'Timestamp': '2017-02-01T00:12:00Z', 'Value': 249.87322998046875},\n",
       "  {'Timestamp': '2017-02-01T00:14:00Z', 'Value': 245.76869201660156},\n",
       "  {'Timestamp': '2017-02-01T00:16:00Z', 'Value': 249.33018493652344},\n",
       "  {'Timestamp': '2017-02-01T00:18:00Z', 'Value': 249.44326782226562},\n",
       "  {'Timestamp': '2017-02-01T00:20:00Z', 'Value': 256.346923828125},\n",
       "  {'Timestamp': '2017-02-01T00:22:00Z', 'Value': 243.9831085205078},\n",
       "  {'Timestamp': '2017-02-01T00:24:00Z', 'Value': 244.44805908203125},\n",
       "  {'Timestamp': '2017-02-01T00:26:00Z', 'Value': 245.53001403808594},\n",
       "  {'Timestamp': '2017-02-01T00:28:00Z', 'Value': 252.10899353027344},\n",
       "  {'Timestamp': '2017-02-01T00:30:00Z', 'Value': 252.39549255371094},\n",
       "  {'Timestamp': '2017-02-01T00:32:00Z', 'Value': 255.95150756835938},\n",
       "  {'Timestamp': '2017-02-01T00:34:00Z', 'Value': 250.80638122558594},\n",
       "  {'Timestamp': '2017-02-01T00:36:00Z', 'Value': 253.86856079101562},\n",
       "  {'Timestamp': '2017-02-01T00:38:00Z', 'Value': 260.06182861328125},\n",
       "  {'Timestamp': '2017-02-01T00:40:00Z', 'Value': 245.52903747558594},\n",
       "  {'Timestamp': '2017-02-01T00:42:00Z', 'Value': 244.44374084472656},\n",
       "  {'Timestamp': '2017-02-01T00:44:00Z', 'Value': 257.42742919921875},\n",
       "  {'Timestamp': '2017-02-01T00:46:00Z', 'Value': 243.3624725341797},\n",
       "  {'Timestamp': '2017-02-01T00:48:00Z', 'Value': 241.59397888183594},\n",
       "  {'Timestamp': '2017-02-01T00:50:00Z', 'Value': 250.65829467773438},\n",
       "  {'Timestamp': '2017-02-01T00:52:00Z', 'Value': 249.9394073486328},\n",
       "  {'Timestamp': '2017-02-01T00:54:00Z', 'Value': 248.6537628173828},\n",
       "  {'Timestamp': '2017-02-01T00:56:00Z', 'Value': 255.17193603515625},\n",
       "  {'Timestamp': '2017-02-01T00:58:00Z', 'Value': 244.71409606933594},\n",
       "  {'Timestamp': '2017-02-01T01:00:00Z', 'Value': 241.93231201171875},\n",
       "  {'Timestamp': '2017-02-01T01:02:00Z', 'Value': 245.09100341796875},\n",
       "  {'Timestamp': '2017-02-01T01:04:00Z', 'Value': 249.53082275390625},\n",
       "  {'Timestamp': '2017-02-01T01:06:00Z', 'Value': 252.4232177734375},\n",
       "  {'Timestamp': '2017-02-01T01:08:00Z', 'Value': 252.21055603027344},\n",
       "  {'Timestamp': '2017-02-01T01:10:00Z', 'Value': 249.2305450439453},\n",
       "  {'Timestamp': '2017-02-01T01:12:00Z', 'Value': 249.96112060546875},\n",
       "  {'Timestamp': '2017-02-01T01:14:00Z', 'Value': 250.14527893066406},\n",
       "  {'Timestamp': '2017-02-01T01:16:00Z', 'Value': 250.3521728515625},\n",
       "  {'Timestamp': '2017-02-01T01:18:00Z', 'Value': 256.3865051269531},\n",
       "  {'Timestamp': '2017-02-01T01:20:00Z', 'Value': 254.61753845214844},\n",
       "  {'Timestamp': '2017-02-01T01:22:00Z', 'Value': 256.0062561035156},\n",
       "  {'Timestamp': '2017-02-01T01:24:00Z', 'Value': 257.0341796875},\n",
       "  {'Timestamp': '2017-02-01T01:26:00Z', 'Value': 266.5494689941406},\n",
       "  {'Timestamp': '2017-02-01T01:28:00Z', 'Value': 265.8039855957031},\n",
       "  {'Timestamp': '2017-02-01T01:30:00Z', 'Value': 267.8705749511719},\n",
       "  {'Timestamp': '2017-02-01T01:32:00Z', 'Value': 265.6556091308594},\n",
       "  {'Timestamp': '2017-02-01T01:34:00Z', 'Value': 266.9853515625},\n",
       "  {'Timestamp': '2017-02-01T01:36:00Z', 'Value': 273.24993896484375},\n",
       "  {'Timestamp': '2017-02-01T01:38:00Z', 'Value': 261.70166015625},\n",
       "  {'Timestamp': '2017-02-01T01:40:00Z', 'Value': 260.13055419921875},\n",
       "  {'Timestamp': '2017-02-01T01:42:00Z', 'Value': 265.04290771484375},\n",
       "  {'Timestamp': '2017-02-01T01:44:00Z', 'Value': 263.2295837402344},\n",
       "  {'Timestamp': '2017-02-01T01:46:00Z', 'Value': 261.46966552734375},\n",
       "  {'Timestamp': '2017-02-01T01:48:00Z', 'Value': 261.0272521972656},\n",
       "  {'Timestamp': '2017-02-01T01:50:00Z', 'Value': 262.3177490234375},\n",
       "  {'Timestamp': '2017-02-01T01:52:00Z', 'Value': 268.91461181640625},\n",
       "  {'Timestamp': '2017-02-01T01:54:00Z', 'Value': 261.1178894042969},\n",
       "  {'Timestamp': '2017-02-01T01:56:00Z', 'Value': 261.20672607421875},\n",
       "  {'Timestamp': '2017-02-01T01:58:00Z', 'Value': 261.7988586425781},\n",
       "  {'Timestamp': '2017-02-01T02:00:00Z', 'Value': 267.168212890625},\n",
       "  {'Timestamp': '2017-02-01T02:02:00Z', 'Value': 267.3257751464844},\n",
       "  {'Timestamp': '2017-02-01T02:04:00Z', 'Value': 271.68365478515625},\n",
       "  {'Timestamp': '2017-02-01T02:06:00Z', 'Value': 263.3052978515625},\n",
       "  {'Timestamp': '2017-02-01T02:08:00Z', 'Value': 264.05279541015625},\n",
       "  {'Timestamp': '2017-02-01T02:10:00Z', 'Value': 267.4002685546875},\n",
       "  {'Timestamp': '2017-02-01T02:12:00Z', 'Value': 260.8788757324219},\n",
       "  {'Timestamp': '2017-02-01T02:14:00Z', 'Value': 265.9008483886719},\n",
       "  {'Timestamp': '2017-02-01T02:16:00Z', 'Value': 268.4324645996094},\n",
       "  {'Timestamp': '2017-02-01T02:18:00Z', 'Value': 265.0713806152344},\n",
       "  {'Timestamp': '2017-02-01T02:20:00Z', 'Value': 269.80426025390625},\n",
       "  {'Timestamp': '2017-02-01T02:22:00Z', 'Value': 266.8170471191406},\n",
       "  {'Timestamp': '2017-02-01T02:24:00Z', 'Value': 267.394287109375},\n",
       "  {'Timestamp': '2017-02-01T02:26:00Z', 'Value': 270.14239501953125},\n",
       "  {'Timestamp': '2017-02-01T02:28:00Z', 'Value': 267.28094482421875},\n",
       "  {'Timestamp': '2017-02-01T02:30:00Z', 'Value': 271.4014587402344},\n",
       "  {'Timestamp': '2017-02-01T02:32:00Z', 'Value': 275.88555908203125},\n",
       "  {'Timestamp': '2017-02-01T02:34:00Z', 'Value': 271.99981689453125},\n",
       "  {'Timestamp': '2017-02-01T02:36:00Z', 'Value': 265.9897155761719},\n",
       "  {'Timestamp': '2017-02-01T02:38:00Z', 'Value': 273.25152587890625},\n",
       "  {'Timestamp': '2017-02-01T02:40:00Z', 'Value': 267.638671875},\n",
       "  {'Timestamp': '2017-02-01T02:42:00Z', 'Value': 267.0318908691406},\n",
       "  {'Timestamp': '2017-02-01T02:44:00Z', 'Value': 263.0549011230469},\n",
       "  {'Timestamp': '2017-02-01T02:46:00Z', 'Value': 263.0399475097656},\n",
       "  {'Timestamp': '2017-02-01T02:48:00Z', 'Value': 262.98779296875},\n",
       "  {'Timestamp': '2017-02-01T02:50:00Z', 'Value': 266.5274963378906},\n",
       "  {'Timestamp': '2017-02-01T02:52:00Z', 'Value': 270.1188049316406},\n",
       "  {'Timestamp': '2017-02-01T02:54:00Z', 'Value': 267.93133544921875},\n",
       "  {'Timestamp': '2017-02-01T02:56:00Z', 'Value': 276.43157958984375},\n",
       "  {'Timestamp': '2017-02-01T02:58:00Z', 'Value': 268.08062744140625},\n",
       "  {'Timestamp': '2017-02-01T03:00:00Z', 'Value': 265.644287109375},\n",
       "  {'Timestamp': '2017-02-01T03:02:00Z', 'Value': 262.8257141113281},\n",
       "  {'Timestamp': '2017-02-01T03:04:00Z', 'Value': 265.3698425292969},\n",
       "  {'Timestamp': '2017-02-01T03:06:00Z', 'Value': 267.9111022949219},\n",
       "  {'Timestamp': '2017-02-01T03:08:00Z', 'Value': 258.7108459472656},\n",
       "  {'Timestamp': '2017-02-01T03:10:00Z', 'Value': 248.26441955566406},\n",
       "  {'Timestamp': '2017-02-01T03:12:00Z', 'Value': 259.1634216308594},\n",
       "  {'Timestamp': '2017-02-01T03:14:00Z', 'Value': 261.0506896972656},\n",
       "  {'Timestamp': '2017-02-01T03:16:00Z', 'Value': 252.57559204101562},\n",
       "  {'Timestamp': '2017-02-01T03:18:00Z', 'Value': 254.69651794433594}])"
      ]
     },
     "execution_count": 10,
     "metadata": {},
     "output_type": "execute_result"
    }
   ],
   "source": [
    "# Step 1: get the stream Id \n",
    "stream_id = ucdavis_streams_of(\"Activities and Recreation Center\")[\"Demand\"]\n",
    "\n",
    "# Step 2) request interpolated data\n",
    "# NOTE 1: difference between endIndex and startIndex should be 31 days or less\n",
    "# NOTE 2: interpolation interval cannot be less than 2 minutes\n",
    "result = ocs_stream_interpolated_data(\n",
    "    ocs_client,\n",
    "    namespace_id,\n",
    "    stream_id,\n",
    "    start=\"2017-02-01\", # UTC \n",
    "    end=\"2017-03-01\",\n",
    "    interval=2,  # 2 minutes\n",
    ")\n",
    "len(result), result[:100]  # display first 100 rows "
   ]
  },
  {
   "cell_type": "markdown",
   "metadata": {},
   "source": [
    "## Transform result into a Pandas series"
   ]
  },
  {
   "cell_type": "code",
   "execution_count": 11,
   "metadata": {},
   "outputs": [
    {
     "data": {
      "text/html": [
       "<div>\n",
       "<style scoped>\n",
       "    .dataframe tbody tr th:only-of-type {\n",
       "        vertical-align: middle;\n",
       "    }\n",
       "\n",
       "    .dataframe tbody tr th {\n",
       "        vertical-align: top;\n",
       "    }\n",
       "\n",
       "    .dataframe thead th {\n",
       "        text-align: right;\n",
       "    }\n",
       "</style>\n",
       "<table border=\"1\" class=\"dataframe\">\n",
       "  <thead>\n",
       "    <tr style=\"text-align: right;\">\n",
       "      <th></th>\n",
       "      <th>Value</th>\n",
       "    </tr>\n",
       "    <tr>\n",
       "      <th>Timestamp</th>\n",
       "      <th></th>\n",
       "    </tr>\n",
       "  </thead>\n",
       "  <tbody>\n",
       "    <tr>\n",
       "      <th>2017-02-01 00:00:00+00:00</th>\n",
       "      <td>254.055603</td>\n",
       "    </tr>\n",
       "    <tr>\n",
       "      <th>2017-02-01 00:02:00+00:00</th>\n",
       "      <td>262.885468</td>\n",
       "    </tr>\n",
       "    <tr>\n",
       "      <th>2017-02-01 00:04:00+00:00</th>\n",
       "      <td>249.998825</td>\n",
       "    </tr>\n",
       "    <tr>\n",
       "      <th>2017-02-01 00:06:00+00:00</th>\n",
       "      <td>252.905319</td>\n",
       "    </tr>\n",
       "    <tr>\n",
       "      <th>2017-02-01 00:08:00+00:00</th>\n",
       "      <td>252.359451</td>\n",
       "    </tr>\n",
       "    <tr>\n",
       "      <th>...</th>\n",
       "      <td>...</td>\n",
       "    </tr>\n",
       "    <tr>\n",
       "      <th>2017-02-28 23:52:00+00:00</th>\n",
       "      <td>251.217514</td>\n",
       "    </tr>\n",
       "    <tr>\n",
       "      <th>2017-02-28 23:54:00+00:00</th>\n",
       "      <td>250.554886</td>\n",
       "    </tr>\n",
       "    <tr>\n",
       "      <th>2017-02-28 23:56:00+00:00</th>\n",
       "      <td>251.206818</td>\n",
       "    </tr>\n",
       "    <tr>\n",
       "      <th>2017-02-28 23:58:00+00:00</th>\n",
       "      <td>250.461777</td>\n",
       "    </tr>\n",
       "    <tr>\n",
       "      <th>2017-03-01 00:00:00+00:00</th>\n",
       "      <td>258.662231</td>\n",
       "    </tr>\n",
       "  </tbody>\n",
       "</table>\n",
       "<p>20161 rows × 1 columns</p>\n",
       "</div>"
      ],
      "text/plain": [
       "                                Value\n",
       "Timestamp                            \n",
       "2017-02-01 00:00:00+00:00  254.055603\n",
       "2017-02-01 00:02:00+00:00  262.885468\n",
       "2017-02-01 00:04:00+00:00  249.998825\n",
       "2017-02-01 00:06:00+00:00  252.905319\n",
       "2017-02-01 00:08:00+00:00  252.359451\n",
       "...                               ...\n",
       "2017-02-28 23:52:00+00:00  251.217514\n",
       "2017-02-28 23:54:00+00:00  250.554886\n",
       "2017-02-28 23:56:00+00:00  251.206818\n",
       "2017-02-28 23:58:00+00:00  250.461777\n",
       "2017-03-01 00:00:00+00:00  258.662231\n",
       "\n",
       "[20161 rows x 1 columns]"
      ]
     },
     "execution_count": 11,
     "metadata": {},
     "output_type": "execute_result"
    }
   ],
   "source": [
    "demand1 = pd.read_json(json.dumps(result)).set_index('Timestamp')\n",
    "demand1"
   ]
  },
  {
   "cell_type": "markdown",
   "metadata": {},
   "source": [
    "## Get data for next month"
   ]
  },
  {
   "cell_type": "code",
   "execution_count": 12,
   "metadata": {},
   "outputs": [],
   "source": [
    "result = ocs_stream_interpolated_data(\n",
    "    ocs_client,\n",
    "    namespace_id,\n",
    "    stream_id,\n",
    "    start=\"2017-03-01\", # UTC \n",
    "    end=\"2017-04-01\",\n",
    "    interval=2,  # 2 minutes\n",
    ")"
   ]
  },
  {
   "cell_type": "markdown",
   "metadata": {},
   "source": [
    "## Transform into a Pandas time series and append to first month data"
   ]
  },
  {
   "cell_type": "code",
   "execution_count": 13,
   "metadata": {},
   "outputs": [
    {
     "data": {
      "text/plain": [
       "(42482,                                 Value\n",
       " Timestamp                            \n",
       " 2017-02-01 00:00:00+00:00  254.055603\n",
       " 2017-02-01 00:02:00+00:00  262.885468\n",
       " 2017-02-01 00:04:00+00:00  249.998825\n",
       " 2017-02-01 00:06:00+00:00  252.905319\n",
       " 2017-02-01 00:08:00+00:00  252.359451\n",
       " ...                               ...\n",
       " 2017-03-31 23:52:00+00:00  222.544403\n",
       " 2017-03-31 23:54:00+00:00  223.602707\n",
       " 2017-03-31 23:56:00+00:00  223.262390\n",
       " 2017-03-31 23:58:00+00:00  226.604126\n",
       " 2017-04-01 00:00:00+00:00  224.027908\n",
       " \n",
       " [42482 rows x 1 columns])"
      ]
     },
     "execution_count": 13,
     "metadata": {},
     "output_type": "execute_result"
    }
   ],
   "source": [
    "demand2 = pd.read_json(json.dumps(result)).set_index('Timestamp')\n",
    "demand_2m = demand1.append(demand2)\n",
    "len(demand_2m), demand_2m"
   ]
  },
  {
   "cell_type": "markdown",
   "metadata": {},
   "source": [
    "## There is a repeated row at the boundary of the two appended series\n",
    "\n",
    "More specifically, the bottom row of first series and first row of second series. Line below shows it:"
   ]
  },
  {
   "cell_type": "code",
   "execution_count": 14,
   "metadata": {},
   "outputs": [
    {
     "data": {
      "text/html": [
       "<div>\n",
       "<style scoped>\n",
       "    .dataframe tbody tr th:only-of-type {\n",
       "        vertical-align: middle;\n",
       "    }\n",
       "\n",
       "    .dataframe tbody tr th {\n",
       "        vertical-align: top;\n",
       "    }\n",
       "\n",
       "    .dataframe thead th {\n",
       "        text-align: right;\n",
       "    }\n",
       "</style>\n",
       "<table border=\"1\" class=\"dataframe\">\n",
       "  <thead>\n",
       "    <tr style=\"text-align: right;\">\n",
       "      <th></th>\n",
       "      <th>Value</th>\n",
       "    </tr>\n",
       "    <tr>\n",
       "      <th>Timestamp</th>\n",
       "      <th></th>\n",
       "    </tr>\n",
       "  </thead>\n",
       "  <tbody>\n",
       "    <tr>\n",
       "      <th>2017-03-01 00:00:00+00:00</th>\n",
       "      <td>258.662231</td>\n",
       "    </tr>\n",
       "  </tbody>\n",
       "</table>\n",
       "</div>"
      ],
      "text/plain": [
       "                                Value\n",
       "Timestamp                            \n",
       "2017-03-01 00:00:00+00:00  258.662231"
      ]
     },
     "execution_count": 14,
     "metadata": {},
     "output_type": "execute_result"
    }
   ],
   "source": [
    "demand_2m.loc[demand_2m.index.duplicated()]"
   ]
  },
  {
   "cell_type": "markdown",
   "metadata": {},
   "source": [
    "## Remove duplicated row\n",
    "\n",
    "Difference in lenght (== # of rows) should be 1 "
   ]
  },
  {
   "cell_type": "code",
   "execution_count": 15,
   "metadata": {},
   "outputs": [
    {
     "data": {
      "text/plain": [
       "1"
      ]
     },
     "execution_count": 15,
     "metadata": {},
     "output_type": "execute_result"
    }
   ],
   "source": [
    "new_demand = demand_2m.loc[~demand_2m.index.duplicated(keep=\"first\")]\n",
    "len(demand_2m) - len(new_demand)"
   ]
  },
  {
   "cell_type": "markdown",
   "metadata": {},
   "source": [
    "## Getting a full year of data\n",
    "\n",
    "### Reusing what we've learn so far "
   ]
  },
  {
   "cell_type": "code",
   "execution_count": 16,
   "metadata": {},
   "outputs": [
    {
     "data": {
      "text/plain": [
       "Series([], dtype: float64)"
      ]
     },
     "execution_count": 16,
     "metadata": {},
     "output_type": "execute_result"
    }
   ],
   "source": [
    "# Create an empty series\n",
    "demand = pd.Series()\n",
    "demand"
   ]
  },
  {
   "cell_type": "code",
   "execution_count": 17,
   "metadata": {},
   "outputs": [
    {
     "name": "stdout",
     "output_type": "stream",
     "text": [
      "> processing 2017-1-01\n",
      "> processing 2017-2-01\n"
     ]
    },
    {
     "name": "stderr",
     "output_type": "stream",
     "text": [
      "/opt/conda/lib/python3.7/site-packages/pandas/core/frame.py:7138: FutureWarning: Sorting because non-concatenation axis is not aligned. A future version\n",
      "of pandas will change to not sort by default.\n",
      "\n",
      "To accept the future behavior, pass 'sort=False'.\n",
      "\n",
      "To retain the current behavior and silence the warning, pass 'sort=True'.\n",
      "\n",
      "  sort=sort,\n"
     ]
    },
    {
     "name": "stdout",
     "output_type": "stream",
     "text": [
      "> processing 2017-3-01\n",
      "> processing 2017-4-01\n",
      "> processing 2017-5-01\n",
      "> processing 2017-6-01\n",
      "> processing 2017-7-01\n",
      "> processing 2017-8-01\n",
      "> processing 2017-9-01\n",
      "> processing 2017-10-01\n",
      "> processing 2017-11-01\n"
     ]
    },
    {
     "data": {
      "text/plain": [
       "(240250,                             0       Value\n",
       " 2017-01-01 08:02:00+00:00 NaN  203.602783\n",
       " 2017-01-01 08:04:00+00:00 NaN  196.223251\n",
       " 2017-01-01 08:06:00+00:00 NaN  195.362305\n",
       " 2017-01-01 08:08:00+00:00 NaN  195.213913\n",
       " 2017-01-01 08:10:00+00:00 NaN  197.648666\n",
       " ...                        ..         ...\n",
       " 2017-11-30 23:52:00+00:00 NaN  228.839342\n",
       " 2017-11-30 23:54:00+00:00 NaN  228.842742\n",
       " 2017-11-30 23:56:00+00:00 NaN  228.846142\n",
       " 2017-11-30 23:58:00+00:00 NaN  228.849542\n",
       " 2017-12-01 00:00:00+00:00 NaN  228.852943\n",
       " \n",
       " [240250 rows x 2 columns])"
      ]
     },
     "execution_count": 17,
     "metadata": {},
     "output_type": "execute_result"
    }
   ],
   "source": [
    "for start_month in range(1, 12):\n",
    "    start_date = f\"2017-{start_month}-01\"\n",
    "    print(f\"> processing {start_date}\")\n",
    "    result = ocs_stream_interpolated_data(\n",
    "        ocs_client,\n",
    "        namespace_id,\n",
    "        stream_id,\n",
    "        start=start_date,  # UTC\n",
    "        end=f\"2017-{start_month+1}-01\",\n",
    "        interval=2,  # 2 minutes\n",
    "    )\n",
    "    demand = demand.append(\n",
    "        pd.read_json(json.dumps(result)).set_index(\"Timestamp\", drop=True)\n",
    "    )\n",
    "\n",
    "# Note there is an additional column \"0\" with NaN (not a number), it will be remove in the next cell\n",
    "len(demand), demand"
   ]
  },
  {
   "cell_type": "code",
   "execution_count": 18,
   "metadata": {},
   "outputs": [
    {
     "data": {
      "text/plain": [
       "(240240, 2017-01-01 08:02:00+00:00    203.602783\n",
       " 2017-01-01 08:04:00+00:00    196.223251\n",
       " 2017-01-01 08:06:00+00:00    195.362305\n",
       " 2017-01-01 08:08:00+00:00    195.213913\n",
       " 2017-01-01 08:10:00+00:00    197.648666\n",
       "                                 ...    \n",
       " 2017-11-30 23:52:00+00:00    228.839342\n",
       " 2017-11-30 23:54:00+00:00    228.842742\n",
       " 2017-11-30 23:56:00+00:00    228.846142\n",
       " 2017-11-30 23:58:00+00:00    228.849542\n",
       " 2017-12-01 00:00:00+00:00    228.852943\n",
       " Name: Value, Length: 240240, dtype: float64)"
      ]
     },
     "execution_count": 18,
     "metadata": {},
     "output_type": "execute_result"
    }
   ],
   "source": [
    "# remove duplicate rows and keep only column named \"Values\"\n",
    "demand = demand.loc[~demand.index.duplicated(keep=\"first\")][\"Value\"]\n",
    "len(demand), demand"
   ]
  },
  {
   "cell_type": "markdown",
   "metadata": {},
   "source": [
    "## Building metadata"
   ]
  },
  {
   "cell_type": "code",
   "execution_count": 19,
   "metadata": {},
   "outputs": [
    {
     "data": {
      "text/plain": [
       "{'Annual Cost': 151156.0,\n",
       " 'BuildingName': 'ARC',\n",
       " 'kWh Rate': 0.0687,\n",
       " 'Prefix': 'Activities_and_Recreation_Center_MSB',\n",
       " 'Rollover': 10000000.0,\n",
       " 'CAAN': 4799.0,\n",
       " 'Construction Date': '04/15/2002',\n",
       " 'Display Name': 'Activities and Recreation Center',\n",
       " 'Latitude': 38.5428969596,\n",
       " 'Longitude': -121.759644393,\n",
       " 'Maintained Gross Sq. Ft.': 158120.0,\n",
       " 'Primary Usage (Type)': 'REC - Athletics & Recreation'}"
      ]
     },
     "execution_count": 19,
     "metadata": {},
     "output_type": "execute_result"
    }
   ],
   "source": [
    "ucdavis_building_metadata(ocs_client, namespace_id, \"Activities and Recreation Center\")"
   ]
  },
  {
   "cell_type": "markdown",
   "metadata": {},
   "source": [
    "## Get outside temperature at UC Davis\n",
    "\n",
    "### Data for this stream starts on 2017-04-01, 19:38"
   ]
  },
  {
   "cell_type": "code",
   "execution_count": 20,
   "metadata": {},
   "outputs": [
    {
     "data": {
      "text/plain": [
       "[{'Timestamp': '2017-04-02T19:38:00Z', 'Value': 73.84828},\n",
       " {'Timestamp': '2017-04-02T19:40:00Z', 'Value': 74.04701},\n",
       " {'Timestamp': '2017-04-02T19:42:00Z', 'Value': 74.13842},\n",
       " {'Timestamp': '2017-04-02T19:44:00Z', 'Value': 74.0657959},\n",
       " {'Timestamp': '2017-04-02T19:46:00Z', 'Value': 74.32633},\n",
       " {'Timestamp': '2017-04-02T19:48:00Z', 'Value': 74.61136},\n",
       " {'Timestamp': '2017-04-02T19:50:00Z', 'Value': 74.52496},\n",
       " {'Timestamp': '2017-04-02T19:52:00Z', 'Value': 74.7417145},\n",
       " {'Timestamp': '2017-04-02T19:54:00Z', 'Value': 75.06158},\n",
       " {'Timestamp': '2017-04-02T19:56:00Z', 'Value': 75.67546},\n",
       " {'Timestamp': '2017-04-02T19:58:00Z', 'Value': 75.66438},\n",
       " {'Timestamp': '2017-04-02T20:00:00Z', 'Value': 75.3251953},\n",
       " {'Timestamp': '2017-04-02T20:02:00Z', 'Value': 75.10666},\n",
       " {'Timestamp': '2017-04-02T20:04:00Z', 'Value': 75.3027649},\n",
       " {'Timestamp': '2017-04-02T20:06:00Z', 'Value': 75.17714},\n",
       " {'Timestamp': '2017-04-02T20:08:00Z', 'Value': 75.3776245},\n",
       " {'Timestamp': '2017-04-02T20:10:00Z', 'Value': 75.72016},\n",
       " {'Timestamp': '2017-04-02T20:12:00Z', 'Value': 76.0627},\n",
       " {'Timestamp': '2017-04-02T20:14:00Z', 'Value': 76.4052353},\n",
       " {'Timestamp': '2017-04-02T20:16:00Z', 'Value': 76.3687744},\n",
       " {'Timestamp': '2017-04-02T20:18:00Z', 'Value': 76.283905},\n",
       " {'Timestamp': '2017-04-02T20:20:00Z', 'Value': 76.56729},\n",
       " {'Timestamp': '2017-04-02T20:22:00Z', 'Value': 76.40331},\n",
       " {'Timestamp': '2017-04-02T20:24:00Z', 'Value': 76.23934},\n",
       " {'Timestamp': '2017-04-02T20:26:00Z', 'Value': 76.07536},\n",
       " {'Timestamp': '2017-04-02T20:28:00Z', 'Value': 76.02366},\n",
       " {'Timestamp': '2017-04-02T20:30:00Z', 'Value': 76.3167343},\n",
       " {'Timestamp': '2017-04-02T20:32:00Z', 'Value': 76.6098},\n",
       " {'Timestamp': '2017-04-02T20:34:00Z', 'Value': 76.90288},\n",
       " {'Timestamp': '2017-04-02T20:36:00Z', 'Value': 76.88543},\n",
       " {'Timestamp': '2017-04-02T20:38:00Z', 'Value': 76.99735},\n",
       " {'Timestamp': '2017-04-02T20:40:00Z', 'Value': 77.06408},\n",
       " {'Timestamp': '2017-04-02T20:42:00Z', 'Value': 76.60142},\n",
       " {'Timestamp': '2017-04-02T20:44:00Z', 'Value': 76.54569},\n",
       " {'Timestamp': '2017-04-02T20:46:00Z', 'Value': 76.86503},\n",
       " {'Timestamp': '2017-04-02T20:48:00Z', 'Value': 77.34797},\n",
       " {'Timestamp': '2017-04-02T20:50:00Z', 'Value': 77.2989},\n",
       " {'Timestamp': '2017-04-02T20:52:00Z', 'Value': 77.43853},\n",
       " {'Timestamp': '2017-04-02T20:54:00Z', 'Value': 77.0929642},\n",
       " {'Timestamp': '2017-04-02T20:56:00Z', 'Value': 77.37465},\n",
       " {'Timestamp': '2017-04-02T20:58:00Z', 'Value': 77.74258},\n",
       " {'Timestamp': '2017-04-02T21:00:00Z', 'Value': 77.538475},\n",
       " {'Timestamp': '2017-04-02T21:02:00Z', 'Value': 77.4124146},\n",
       " {'Timestamp': '2017-04-02T21:04:00Z', 'Value': 77.52545},\n",
       " {'Timestamp': '2017-04-02T21:06:00Z', 'Value': 77.63849},\n",
       " {'Timestamp': '2017-04-02T21:08:00Z', 'Value': 77.75153},\n",
       " {'Timestamp': '2017-04-02T21:10:00Z', 'Value': 77.86457},\n",
       " {'Timestamp': '2017-04-02T21:12:00Z', 'Value': 77.79135},\n",
       " {'Timestamp': '2017-04-02T21:14:00Z', 'Value': 77.7103958},\n",
       " {'Timestamp': '2017-04-02T21:16:00Z', 'Value': 77.79623},\n",
       " {'Timestamp': '2017-04-02T21:18:00Z', 'Value': 78.06092},\n",
       " {'Timestamp': '2017-04-02T21:20:00Z', 'Value': 78.27333},\n",
       " {'Timestamp': '2017-04-02T21:22:00Z', 'Value': 78.35957},\n",
       " {'Timestamp': '2017-04-02T21:24:00Z', 'Value': 78.445816},\n",
       " {'Timestamp': '2017-04-02T21:26:00Z', 'Value': 78.2373352},\n",
       " {'Timestamp': '2017-04-02T21:28:00Z', 'Value': 78.5590439},\n",
       " {'Timestamp': '2017-04-02T21:30:00Z', 'Value': 78.88076},\n",
       " {'Timestamp': '2017-04-02T21:32:00Z', 'Value': 78.69378},\n",
       " {'Timestamp': '2017-04-02T21:34:00Z', 'Value': 78.92347},\n",
       " {'Timestamp': '2017-04-02T21:36:00Z', 'Value': 79.05099},\n",
       " {'Timestamp': '2017-04-02T21:38:00Z', 'Value': 78.85023},\n",
       " {'Timestamp': '2017-04-02T21:40:00Z', 'Value': 79.01709},\n",
       " {'Timestamp': '2017-04-02T21:42:00Z', 'Value': 79.1247253},\n",
       " {'Timestamp': '2017-04-02T21:44:00Z', 'Value': 78.98966},\n",
       " {'Timestamp': '2017-04-02T21:46:00Z', 'Value': 78.85461},\n",
       " {'Timestamp': '2017-04-02T21:48:00Z', 'Value': 79.05868},\n",
       " {'Timestamp': '2017-04-02T21:50:00Z', 'Value': 79.29029},\n",
       " {'Timestamp': '2017-04-02T21:52:00Z', 'Value': 79.15353},\n",
       " {'Timestamp': '2017-04-02T21:54:00Z', 'Value': 79.48146},\n",
       " {'Timestamp': '2017-04-02T21:56:00Z', 'Value': 79.7267},\n",
       " {'Timestamp': '2017-04-02T21:58:00Z', 'Value': 79.84753},\n",
       " {'Timestamp': '2017-04-02T22:00:00Z', 'Value': 79.69689},\n",
       " {'Timestamp': '2017-04-02T22:02:00Z', 'Value': 79.67676},\n",
       " {'Timestamp': '2017-04-02T22:04:00Z', 'Value': 79.68827},\n",
       " {'Timestamp': '2017-04-02T22:06:00Z', 'Value': 79.79684},\n",
       " {'Timestamp': '2017-04-02T22:08:00Z', 'Value': 79.9054},\n",
       " {'Timestamp': '2017-04-02T22:10:00Z', 'Value': 80.01398},\n",
       " {'Timestamp': '2017-04-02T22:12:00Z', 'Value': 80.19668},\n",
       " {'Timestamp': '2017-04-02T22:14:00Z', 'Value': 80.51108},\n",
       " {'Timestamp': '2017-04-02T22:16:00Z', 'Value': 80.58406},\n",
       " {'Timestamp': '2017-04-02T22:18:00Z', 'Value': 80.78938},\n",
       " {'Timestamp': '2017-04-02T22:20:00Z', 'Value': 80.77789},\n",
       " {'Timestamp': '2017-04-02T22:22:00Z', 'Value': 80.84128},\n",
       " {'Timestamp': '2017-04-02T22:24:00Z', 'Value': 81.21132},\n",
       " {'Timestamp': '2017-04-02T22:26:00Z', 'Value': 81.58137},\n",
       " {'Timestamp': '2017-04-02T22:28:00Z', 'Value': 81.76573},\n",
       " {'Timestamp': '2017-04-02T22:30:00Z', 'Value': 81.30953},\n",
       " {'Timestamp': '2017-04-02T22:32:00Z', 'Value': 81.022934},\n",
       " {'Timestamp': '2017-04-02T22:34:00Z', 'Value': 80.940506},\n",
       " {'Timestamp': '2017-04-02T22:36:00Z', 'Value': 81.44313},\n",
       " {'Timestamp': '2017-04-02T22:38:00Z', 'Value': 81.15181},\n",
       " {'Timestamp': '2017-04-02T22:40:00Z', 'Value': 81.2296753},\n",
       " {'Timestamp': '2017-04-02T22:42:00Z', 'Value': 81.4692},\n",
       " {'Timestamp': '2017-04-02T22:44:00Z', 'Value': 81.708725},\n",
       " {'Timestamp': '2017-04-02T22:46:00Z', 'Value': 81.59292},\n",
       " {'Timestamp': '2017-04-02T22:48:00Z', 'Value': 81.56713},\n",
       " {'Timestamp': '2017-04-02T22:50:00Z', 'Value': 81.64826},\n",
       " {'Timestamp': '2017-04-02T22:52:00Z', 'Value': 81.72939},\n",
       " {'Timestamp': '2017-04-02T22:54:00Z', 'Value': 81.81053},\n",
       " {'Timestamp': '2017-04-02T22:56:00Z', 'Value': 81.89166}]"
      ]
     },
     "execution_count": 20,
     "metadata": {},
     "output_type": "execute_result"
    }
   ],
   "source": [
    "# display only first 100 rows\n",
    "ucdavis_outside_temperature(ocs_client, namespace_id, \"2017-04-01\", \"2017-05-01\", 2)[:100]"
   ]
  },
  {
   "cell_type": "markdown",
   "metadata": {},
   "source": [
    "## Test error code \n",
    "\n",
    "### Bad argument of the right type"
   ]
  },
  {
   "cell_type": "code",
   "execution_count": 21,
   "metadata": {},
   "outputs": [
    {
     "name": "stdout",
     "output_type": "stream",
     "text": [
      "#warning: \"Bad Building\" is not a valid building name\n"
     ]
    }
   ],
   "source": [
    "# should fail\n",
    "ucdavis_ceeds_of(\"Bad Building\")"
   ]
  }
 ],
 "metadata": {
  "kernelspec": {
   "display_name": "Python 3",
   "language": "python",
   "name": "python3"
  },
  "language_info": {
   "codemirror_mode": {
    "name": "ipython",
    "version": 3
   },
   "file_extension": ".py",
   "mimetype": "text/x-python",
   "name": "python",
   "nbconvert_exporter": "python",
   "pygments_lexer": "ipython3",
   "version": "3.7.3"
  }
 },
 "nbformat": 4,
 "nbformat_minor": 4
}
